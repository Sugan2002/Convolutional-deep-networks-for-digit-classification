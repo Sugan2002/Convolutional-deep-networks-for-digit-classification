{
  "cells": [
    {
      "cell_type": "markdown",
      "metadata": {
        "id": "view-in-github",
        "colab_type": "text"
      },
      "source": [
        "<a href=\"https://colab.research.google.com/github/Sugan2002/Exp_3_DL/blob/main/Ex03_minist_classification.ipynb\" target=\"_parent\"><img src=\"https://colab.research.google.com/assets/colab-badge.svg\" alt=\"Open In Colab\"/></a>"
      ]
    },
    {
      "cell_type": "code",
      "execution_count": 90,
      "metadata": {
        "id": "Ms2HU22Nmxkg"
      },
      "outputs": [],
      "source": [
        "import numpy as np\n",
        "from tensorflow import keras\n",
        "from tensorflow.keras import layers\n",
        "from tensorflow.keras.datasets import mnist\n",
        "import tensorflow as tf\n",
        "import matplotlib.pyplot as plt\n",
        "from tensorflow.keras import utils\n",
        "import pandas as pd\n",
        "from sklearn.metrics import classification_report,confusion_matrix\n",
        "from tensorflow.keras.preprocessing import image\n"
      ]
    },
    {
      "cell_type": "code",
      "execution_count": 91,
      "metadata": {
        "id": "gyyDcEJBoPWh"
      },
      "outputs": [],
      "source": [
        "(X_train, y_train), (X_test, y_test) = mnist.load_data()"
      ]
    },
    {
      "cell_type": "code",
      "execution_count": 92,
      "metadata": {
        "id": "W0thCGmwocfQ",
        "colab": {
          "base_uri": "https://localhost:8080/"
        },
        "outputId": "732a172b-c3ee-4b7f-f064-ad03f5adf3b6"
      },
      "outputs": [
        {
          "output_type": "execute_result",
          "data": {
            "text/plain": [
              "(60000, 28, 28)"
            ]
          },
          "metadata": {},
          "execution_count": 92
        }
      ],
      "source": [
        "X_train.shape"
      ]
    },
    {
      "cell_type": "code",
      "execution_count": 93,
      "metadata": {
        "id": "Kl1HVshDojow",
        "colab": {
          "base_uri": "https://localhost:8080/"
        },
        "outputId": "6bf7160e-423b-4bd1-a31a-4a0fca904b04"
      },
      "outputs": [
        {
          "output_type": "execute_result",
          "data": {
            "text/plain": [
              "(10000, 28, 28)"
            ]
          },
          "metadata": {},
          "execution_count": 93
        }
      ],
      "source": [
        "X_test.shape"
      ]
    },
    {
      "cell_type": "code",
      "execution_count": 94,
      "metadata": {
        "id": "sUtPtTH8pYho"
      },
      "outputs": [],
      "source": [
        "single_image= X_train[2500]"
      ]
    },
    {
      "cell_type": "code",
      "execution_count": 95,
      "metadata": {
        "id": "d_7A8n_JpexA",
        "colab": {
          "base_uri": "https://localhost:8080/"
        },
        "outputId": "6de63b24-418a-4f76-f9a6-103b576f8773"
      },
      "outputs": [
        {
          "output_type": "execute_result",
          "data": {
            "text/plain": [
              "(28, 28)"
            ]
          },
          "metadata": {},
          "execution_count": 95
        }
      ],
      "source": [
        "single_image.shape"
      ]
    },
    {
      "cell_type": "code",
      "execution_count": 96,
      "metadata": {
        "id": "qyuxyqKZpiAY",
        "colab": {
          "base_uri": "https://localhost:8080/",
          "height": 283
        },
        "outputId": "61c290c6-58e3-4f42-ee38-77f196b5da61"
      },
      "outputs": [
        {
          "output_type": "execute_result",
          "data": {
            "text/plain": [
              "<matplotlib.image.AxesImage at 0x7fbf2682c990>"
            ]
          },
          "metadata": {},
          "execution_count": 96
        },
        {
          "output_type": "display_data",
          "data": {
            "text/plain": [
              "<Figure size 432x288 with 1 Axes>"
            ],
            "image/png": "[encoded data removed]"
          },
          "metadata": {
            "needs_background": "light"
          }
        }
      ],
      "source": [
        "plt.imshow(single_image,cmap='Blues')"
      ]
    },
    {
      "cell_type": "code",
      "execution_count": 97,
      "metadata": {
        "id": "gamIl8scp_vg",
        "colab": {
          "base_uri": "https://localhost:8080/"
        },
        "outputId": "730d9bac-37a8-470f-8896-2bd3d71f2fc6"
      },
      "outputs": [
        {
          "output_type": "execute_result",
          "data": {
            "text/plain": [
              "(60000,)"
            ]
          },
          "metadata": {},
          "execution_count": 97
        }
      ],
      "source": [
        "y_train.shape"
      ]
    },
    {
      "cell_type": "code",
      "source": [
        "y_train[2500]"
      ],
      "metadata": {
        "colab": {
          "base_uri": "https://localhost:8080/"
        },
        "id": "b4rMoZT-BXa0",
        "outputId": "ab437c1c-9579-4ff0-80c3-776527c0faba"
      },
      "execution_count": 98,
      "outputs": [
        {
          "output_type": "execute_result",
          "data": {
            "text/plain": [
              "0"
            ]
          },
          "metadata": {},
          "execution_count": 98
        }
      ]
    },
    {
      "cell_type": "code",
      "execution_count": 99,
      "metadata": {
        "id": "p1Hr1eHcr7EB",
        "colab": {
          "base_uri": "https://localhost:8080/"
        },
        "outputId": "1e6d99fa-b162-4a44-ef4c-972c671ffea0"
      },
      "outputs": [
        {
          "output_type": "execute_result",
          "data": {
            "text/plain": [
              "0"
            ]
          },
          "metadata": {},
          "execution_count": 99
        }
      ],
      "source": [
        "X_train.min()"
      ]
    },
    {
      "cell_type": "code",
      "execution_count": 100,
      "metadata": {
        "id": "TbytbmcjsFcJ",
        "colab": {
          "base_uri": "https://localhost:8080/"
        },
        "outputId": "d91c90eb-0416-4316-e685-3cea44eea791"
      },
      "outputs": [
        {
          "output_type": "execute_result",
          "data": {
            "text/plain": [
              "255"
            ]
          },
          "metadata": {},
          "execution_count": 100
        }
      ],
      "source": [
        "X_train.max()"
      ]
    },
    {
      "cell_type": "code",
      "execution_count": 101,
      "metadata": {
        "id": "D-L5mmALsIHR"
      },
      "outputs": [],
      "source": [
        "X_train_scaled = X_train/255.0\n",
        "X_test_scaled = X_test/255.0"
      ]
    },
    {
      "cell_type": "code",
      "execution_count": 102,
      "metadata": {
        "id": "O_5QWtIVsZZp",
        "colab": {
          "base_uri": "https://localhost:8080/"
        },
        "outputId": "b6563f24-d968-46c1-f710-587ba9c1c2ad"
      },
      "outputs": [
        {
          "output_type": "execute_result",
          "data": {
            "text/plain": [
              "0.0"
            ]
          },
          "metadata": {},
          "execution_count": 102
        }
      ],
      "source": [
        "X_train_scaled.min()"
      ]
    },
    {
      "cell_type": "code",
      "execution_count": 103,
      "metadata": {
        "id": "RSjbbOiYse95",
        "colab": {
          "base_uri": "https://localhost:8080/"
        },
        "outputId": "288a09ca-e420-453c-8370-5cae025e6944"
      },
      "outputs": [
        {
          "output_type": "execute_result",
          "data": {
            "text/plain": [
              "1.0"
            ]
          },
          "metadata": {},
          "execution_count": 103
        }
      ],
      "source": [
        "X_train_scaled.max()"
      ]
    },
    {
      "cell_type": "code",
      "execution_count": 104,
      "metadata": {
        "id": "DBXrOqnVqGTY",
        "colab": {
          "base_uri": "https://localhost:8080/"
        },
        "outputId": "5c2ad0d8-b33a-4562-aa3e-1575d43705ac"
      },
      "outputs": [
        {
          "output_type": "execute_result",
          "data": {
            "text/plain": [
              "5"
            ]
          },
          "metadata": {},
          "execution_count": 104
        }
      ],
      "source": [
        "y_train[0]"
      ]
    },
    {
      "cell_type": "code",
      "execution_count": 105,
      "metadata": {
        "id": "oL7Pld1Qrd5x"
      },
      "outputs": [],
      "source": [
        "y_train_onehot = utils.to_categorical(y_train,10)\n",
        "y_test_onehot = utils.to_categorical(y_test,10)"
      ]
    },
    {
      "cell_type": "code",
      "execution_count": 106,
      "metadata": {
        "id": "ZN9h128GrH_5",
        "colab": {
          "base_uri": "https://localhost:8080/"
        },
        "outputId": "e207ad5d-16f9-48a5-c587-d27532c4b71f"
      },
      "outputs": [
        {
          "output_type": "execute_result",
          "data": {
            "text/plain": [
              "numpy.ndarray"
            ]
          },
          "metadata": {},
          "execution_count": 106
        }
      ],
      "source": [
        "type(y_train_onehot)"
      ]
    },
    {
      "cell_type": "code",
      "execution_count": 107,
      "metadata": {
        "id": "BTaP6Ynlrp9p",
        "colab": {
          "base_uri": "https://localhost:8080/"
        },
        "outputId": "1937ee6c-ab83-46f8-ecef-34c153e7be28"
      },
      "outputs": [
        {
          "output_type": "execute_result",
          "data": {
            "text/plain": [
              "(60000, 10)"
            ]
          },
          "metadata": {},
          "execution_count": 107
        }
      ],
      "source": [
        "y_train_onehot.shape"
      ]
    },
    {
      "cell_type": "code",
      "execution_count": 108,
      "metadata": {
        "id": "KJVyMJOSQpQi",
        "colab": {
          "base_uri": "https://localhost:8080/",
          "height": 283
        },
        "outputId": "f6782ca3-dc90-46db-e6ab-444defa87130"
      },
      "outputs": [
        {
          "output_type": "execute_result",
          "data": {
            "text/plain": [
              "<matplotlib.image.AxesImage at 0x7fbf267abed0>"
            ]
          },
          "metadata": {},
          "execution_count": 108
        },
        {
          "output_type": "display_data",
          "data": {
            "text/plain": [
              "<Figure size 432x288 with 1 Axes>"
            ],
            "image/png": "[encoded data removed]"
          },
          "metadata": {
            "needs_background": "light"
          }
        }
      ],
      "source": [
        "single_image = X_train[545]\n",
        "plt.imshow(single_image,cmap='gray')"
      ]
    },
    {
      "cell_type": "code",
      "execution_count": 109,
      "metadata": {
        "id": "ppoll2_iQY57",
        "colab": {
          "base_uri": "https://localhost:8080/"
        },
        "outputId": "6ff8d2ac-d97f-4eb0-e4d5-8aa6ef38d47d"
      },
      "outputs": [
        {
          "output_type": "execute_result",
          "data": {
            "text/plain": [
              "array([0., 0., 0., 0., 0., 0., 0., 0., 1., 0.], dtype=float32)"
            ]
          },
          "metadata": {},
          "execution_count": 109
        }
      ],
      "source": [
        "y_train_onehot[545]"
      ]
    },
    {
      "cell_type": "code",
      "execution_count": 110,
      "metadata": {
        "id": "-6H82O2ouNRq"
      },
      "outputs": [],
      "source": [
        "X_train_scaled = X_train_scaled.reshape(-1,28,28,1)\n",
        "X_test_scaled = X_test_scaled.reshape(-1,28,28,1)"
      ]
    },
    {
      "cell_type": "code",
      "source": [
        "X_train_scaled.shape"
      ],
      "metadata": {
        "colab": {
          "base_uri": "https://localhost:8080/"
        },
        "id": "gQA6mMxJEV9z",
        "outputId": "de409ce7-0eaa-498b-a7ca-2bb696287551"
      },
      "execution_count": 111,
      "outputs": [
        {
          "output_type": "execute_result",
          "data": {
            "text/plain": [
              "(60000, 28, 28, 1)"
            ]
          },
          "metadata": {},
          "execution_count": 111
        }
      ]
    },
    {
      "cell_type": "code",
      "execution_count": 112,
      "metadata": {
        "id": "cXIbBlbasjaZ"
      },
      "outputs": [],
      "source": [
        "model = keras.Sequential()\n",
        "model.add(layers.Input(shape=(28,28,1)))\n",
        "model.add(layers.Conv2D(filters=32,kernel_size=(3,3),activation='relu'))\n",
        "model.add(layers.MaxPool2D(pool_size=(2,2)))\n",
        "model.add(layers.Flatten())\n",
        "model.add(layers.Dense(32,activation='relu'))\n",
        "model.add(layers.Dense(10,activation='softmax'))\n",
        "\n"
      ]
    },
    {
      "cell_type": "code",
      "execution_count": 113,
      "metadata": {
        "id": "H5g5Ek6CgssX",
        "colab": {
          "base_uri": "https://localhost:8080/"
        },
        "outputId": "124e18b8-37c5-41bc-be78-ba73c0150435"
      },
      "outputs": [
        {
          "output_type": "stream",
          "name": "stdout",
          "text": [
            "Model: \"sequential_2\"\n",
            "_________________________________________________________________\n",
            " Layer (type)                Output Shape              Param #   \n",
            "=================================================================\n",
            " conv2d_1 (Conv2D)           (None, 26, 26, 32)        320       \n",
            "                                                                 \n",
            " max_pooling2d_1 (MaxPooling  (None, 13, 13, 32)       0         \n",
            " 2D)                                                             \n",
            "                                                                 \n",
            " flatten_1 (Flatten)         (None, 5408)              0         \n",
            "                                                                 \n",
            " dense_2 (Dense)             (None, 32)                173088    \n",
            "                                                                 \n",
            " dense_3 (Dense)             (None, 10)                330       \n",
            "                                                                 \n",
            "=================================================================\n",
            "Total params: 173,738\n",
            "Trainable params: 173,738\n",
            "Non-trainable params: 0\n",
            "_________________________________________________________________\n"
          ]
        }
      ],
      "source": [
        "model.summary()"
      ]
    },
    {
      "cell_type": "code",
      "execution_count": 114,
      "metadata": {
        "id": "tx9Sw_xqHtqI"
      },
      "outputs": [],
      "source": [
        "# Choose the appropriate parameters\n",
        "model.compile(loss='categorical_crossentropy',optimizer='adam',metrics='accuracy')"
      ]
    },
    {
      "cell_type": "code",
      "execution_count": 115,
      "metadata": {
        "id": "oO6tpvb5Ii14",
        "colab": {
          "base_uri": "https://localhost:8080/"
        },
        "outputId": "04849c8c-5249-4581-f6f4-8c8107d9cf9a"
      },
      "outputs": [
        {
          "output_type": "stream",
          "name": "stdout",
          "text": [
            "Epoch 1/50\n",
            "938/938 [==============================] - 29s 30ms/step - loss: 0.2366 - accuracy: 0.9324 - val_loss: 0.0920 - val_accuracy: 0.9735\n",
            "Epoch 2/50\n",
            "938/938 [==============================] - 27s 29ms/step - loss: 0.0788 - accuracy: 0.9766 - val_loss: 0.0625 - val_accuracy: 0.9804\n",
            "Epoch 3/50\n",
            "938/938 [==============================] - 27s 29ms/step - loss: 0.0573 - accuracy: 0.9829 - val_loss: 0.0514 - val_accuracy: 0.9829\n",
            "Epoch 4/50\n",
            "938/938 [==============================] - 28s 30ms/step - loss: 0.0463 - accuracy: 0.9859 - val_loss: 0.0541 - val_accuracy: 0.9817\n",
            "Epoch 5/50\n",
            "938/938 [==============================] - 28s 29ms/step - loss: 0.0369 - accuracy: 0.9884 - val_loss: 0.0479 - val_accuracy: 0.9848\n",
            "Epoch 6/50\n",
            "938/938 [==============================] - 27s 29ms/step - loss: 0.0311 - accuracy: 0.9903 - val_loss: 0.0485 - val_accuracy: 0.9841\n",
            "Epoch 7/50\n",
            "938/938 [==============================] - 27s 29ms/step - loss: 0.0246 - accuracy: 0.9927 - val_loss: 0.0464 - val_accuracy: 0.9849\n",
            "Epoch 8/50\n",
            "938/938 [==============================] - 27s 29ms/step - loss: 0.0208 - accuracy: 0.9937 - val_loss: 0.0482 - val_accuracy: 0.9846\n",
            "Epoch 9/50\n",
            "938/938 [==============================] - 27s 29ms/step - loss: 0.0157 - accuracy: 0.9952 - val_loss: 0.0466 - val_accuracy: 0.9845\n",
            "Epoch 10/50\n",
            "938/938 [==============================] - 28s 29ms/step - loss: 0.0140 - accuracy: 0.9955 - val_loss: 0.0536 - val_accuracy: 0.9839\n",
            "Epoch 11/50\n",
            "938/938 [==============================] - 28s 30ms/step - loss: 0.0113 - accuracy: 0.9966 - val_loss: 0.0567 - val_accuracy: 0.9837\n",
            "Epoch 12/50\n",
            "938/938 [==============================] - 27s 29ms/step - loss: 0.0093 - accuracy: 0.9974 - val_loss: 0.0562 - val_accuracy: 0.9857\n",
            "Epoch 13/50\n",
            "938/938 [==============================] - 27s 29ms/step - loss: 0.0079 - accuracy: 0.9974 - val_loss: 0.0635 - val_accuracy: 0.9838\n",
            "Epoch 14/50\n",
            "938/938 [==============================] - 27s 29ms/step - loss: 0.0075 - accuracy: 0.9977 - val_loss: 0.0610 - val_accuracy: 0.9833\n",
            "Epoch 15/50\n",
            "938/938 [==============================] - 27s 29ms/step - loss: 0.0057 - accuracy: 0.9983 - val_loss: 0.0526 - val_accuracy: 0.9870\n",
            "Epoch 16/50\n",
            "938/938 [==============================] - 27s 28ms/step - loss: 0.0044 - accuracy: 0.9987 - val_loss: 0.0618 - val_accuracy: 0.9853\n",
            "Epoch 17/50\n",
            "938/938 [==============================] - 28s 30ms/step - loss: 0.0045 - accuracy: 0.9986 - val_loss: 0.0606 - val_accuracy: 0.9853\n",
            "Epoch 18/50\n",
            "938/938 [==============================] - 27s 28ms/step - loss: 0.0040 - accuracy: 0.9987 - val_loss: 0.0677 - val_accuracy: 0.9843\n",
            "Epoch 19/50\n",
            "938/938 [==============================] - 27s 28ms/step - loss: 0.0040 - accuracy: 0.9987 - val_loss: 0.0683 - val_accuracy: 0.9841\n",
            "Epoch 20/50\n",
            "938/938 [==============================] - 27s 28ms/step - loss: 0.0036 - accuracy: 0.9988 - val_loss: 0.0643 - val_accuracy: 0.9853\n",
            "Epoch 21/50\n",
            "938/938 [==============================] - 27s 29ms/step - loss: 0.0019 - accuracy: 0.9995 - val_loss: 0.0741 - val_accuracy: 0.9849\n",
            "Epoch 22/50\n",
            "938/938 [==============================] - 27s 28ms/step - loss: 0.0049 - accuracy: 0.9985 - val_loss: 0.0586 - val_accuracy: 0.9881\n",
            "Epoch 23/50\n",
            "938/938 [==============================] - 27s 29ms/step - loss: 0.0022 - accuracy: 0.9994 - val_loss: 0.0653 - val_accuracy: 0.9855\n",
            "Epoch 24/50\n",
            "938/938 [==============================] - 28s 30ms/step - loss: 0.0022 - accuracy: 0.9993 - val_loss: 0.0815 - val_accuracy: 0.9846\n",
            "Epoch 25/50\n",
            "938/938 [==============================] - 27s 28ms/step - loss: 0.0040 - accuracy: 0.9985 - val_loss: 0.0702 - val_accuracy: 0.9851\n",
            "Epoch 26/50\n",
            "938/938 [==============================] - 29s 31ms/step - loss: 0.0020 - accuracy: 0.9993 - val_loss: 0.0692 - val_accuracy: 0.9862\n",
            "Epoch 27/50\n",
            "938/938 [==============================] - 27s 29ms/step - loss: 5.2366e-04 - accuracy: 0.9999 - val_loss: 0.0701 - val_accuracy: 0.9873\n",
            "Epoch 28/50\n",
            "938/938 [==============================] - 27s 29ms/step - loss: 0.0025 - accuracy: 0.9991 - val_loss: 0.0960 - val_accuracy: 0.9836\n",
            "Epoch 29/50\n",
            "938/938 [==============================] - 27s 29ms/step - loss: 0.0040 - accuracy: 0.9986 - val_loss: 0.0765 - val_accuracy: 0.9860\n",
            "Epoch 30/50\n",
            "938/938 [==============================] - 27s 29ms/step - loss: 5.6991e-04 - accuracy: 0.9999 - val_loss: 0.0717 - val_accuracy: 0.9876\n",
            "Epoch 31/50\n",
            "938/938 [==============================] - 28s 30ms/step - loss: 9.5357e-05 - accuracy: 1.0000 - val_loss: 0.0733 - val_accuracy: 0.9872\n",
            "Epoch 32/50\n",
            "938/938 [==============================] - 33s 35ms/step - loss: 4.8079e-05 - accuracy: 1.0000 - val_loss: 0.0735 - val_accuracy: 0.9875\n",
            "Epoch 33/50\n",
            "938/938 [==============================] - 42s 45ms/step - loss: 3.3865e-05 - accuracy: 1.0000 - val_loss: 0.0748 - val_accuracy: 0.9876\n",
            "Epoch 34/50\n",
            "938/938 [==============================] - 27s 28ms/step - loss: 2.6099e-05 - accuracy: 1.0000 - val_loss: 0.0764 - val_accuracy: 0.9874\n",
            "Epoch 35/50\n",
            "938/938 [==============================] - 28s 30ms/step - loss: 2.0961e-05 - accuracy: 1.0000 - val_loss: 0.0773 - val_accuracy: 0.9878\n",
            "Epoch 36/50\n",
            "938/938 [==============================] - 39s 41ms/step - loss: 0.0034 - accuracy: 0.9991 - val_loss: 0.0959 - val_accuracy: 0.9817\n",
            "Epoch 37/50\n",
            "938/938 [==============================] - 45s 48ms/step - loss: 0.0055 - accuracy: 0.9981 - val_loss: 0.0758 - val_accuracy: 0.9865\n",
            "Epoch 38/50\n",
            "938/938 [==============================] - 45s 47ms/step - loss: 6.2246e-04 - accuracy: 0.9999 - val_loss: 0.0710 - val_accuracy: 0.9874\n",
            "Epoch 39/50\n",
            "938/938 [==============================] - 41s 44ms/step - loss: 6.8905e-05 - accuracy: 1.0000 - val_loss: 0.0725 - val_accuracy: 0.9875\n",
            "Epoch 40/50\n",
            "938/938 [==============================] - 38s 40ms/step - loss: 3.9456e-05 - accuracy: 1.0000 - val_loss: 0.0735 - val_accuracy: 0.9875\n",
            "Epoch 41/50\n",
            "938/938 [==============================] - 40s 43ms/step - loss: 2.7916e-05 - accuracy: 1.0000 - val_loss: 0.0755 - val_accuracy: 0.9874\n",
            "Epoch 42/50\n",
            "938/938 [==============================] - 42s 45ms/step - loss: 2.0449e-05 - accuracy: 1.0000 - val_loss: 0.0765 - val_accuracy: 0.9876\n",
            "Epoch 43/50\n",
            "938/938 [==============================] - 33s 36ms/step - loss: 1.4725e-05 - accuracy: 1.0000 - val_loss: 0.0791 - val_accuracy: 0.9878\n",
            "Epoch 44/50\n",
            "938/938 [==============================] - 29s 31ms/step - loss: 1.0871e-05 - accuracy: 1.0000 - val_loss: 0.0809 - val_accuracy: 0.9875\n",
            "Epoch 45/50\n",
            "938/938 [==============================] - 28s 30ms/step - loss: 8.0043e-06 - accuracy: 1.0000 - val_loss: 0.0816 - val_accuracy: 0.9882\n",
            "Epoch 46/50\n",
            "938/938 [==============================] - 28s 30ms/step - loss: 5.7846e-06 - accuracy: 1.0000 - val_loss: 0.0846 - val_accuracy: 0.9881\n",
            "Epoch 47/50\n",
            "938/938 [==============================] - 29s 30ms/step - loss: 0.0089 - accuracy: 0.9977 - val_loss: 0.0800 - val_accuracy: 0.9862\n",
            "Epoch 48/50\n",
            "938/938 [==============================] - 27s 29ms/step - loss: 0.0010 - accuracy: 0.9997 - val_loss: 0.0797 - val_accuracy: 0.9868\n",
            "Epoch 49/50\n",
            "938/938 [==============================] - 28s 29ms/step - loss: 4.7725e-04 - accuracy: 0.9999 - val_loss: 0.0993 - val_accuracy: 0.9829\n",
            "Epoch 50/50\n",
            "938/938 [==============================] - 29s 31ms/step - loss: 0.0023 - accuracy: 0.9993 - val_loss: 0.0918 - val_accuracy: 0.9864\n"
          ]
        },
        {
          "output_type": "execute_result",
          "data": {
            "text/plain": [
              "<keras.callbacks.History at 0x7fbf26726810>"
            ]
          },
          "metadata": {},
          "execution_count": 115
        }
      ],
      "source": [
        "model.fit(X_train_scaled ,y_train_onehot, epochs=50,\n",
        "          batch_size=64, \n",
        "          validation_data=(X_test_scaled,y_test_onehot))"
      ]
    },
    {
      "cell_type": "code",
      "execution_count": 116,
      "metadata": {
        "id": "baRgwlwaLCqp"
      },
      "outputs": [],
      "source": [
        "metrics = pd.DataFrame(model.history.history)"
      ]
    },
    {
      "cell_type": "code",
      "execution_count": 117,
      "metadata": {
        "id": "yBCYG9r9LKsp",
        "colab": {
          "base_uri": "https://localhost:8080/",
          "height": 206
        },
        "outputId": "8e802332-09a4-47d0-d14e-3a5c4cec1bf0"
      },
      "outputs": [
        {
          "output_type": "execute_result",
          "data": {
            "text/plain": [
              "       loss  accuracy  val_loss  val_accuracy\n",
              "0  0.236577  0.932433  0.091964        0.9735\n",
              "1  0.078831  0.976650  0.062455        0.9804\n",
              "2  0.057281  0.982917  0.051416        0.9829\n",
              "3  0.046285  0.985933  0.054096        0.9817\n",
              "4  0.036890  0.988433  0.047874        0.9848"
            ],
            "text/html": [
              "\n",
              "  <div id=\"df-8e7dbfa2-762f-4c2f-8521-5dfd76f998b1\">\n",
              "    <div class=\"colab-df-container\">\n",
              "      <div>\n",
              "<style scoped>\n",
              "    .dataframe tbody tr th:only-of-type {\n",
              "        vertical-align: middle;\n",
              "    }\n",
              "\n",
              "    .dataframe tbody tr th {\n",
              "        vertical-align: top;\n",
              "    }\n",
              "\n",
              "    .dataframe thead th {\n",
              "        text-align: right;\n",
              "    }\n",
              "</style>\n",
              "<table border=\"1\" class=\"dataframe\">\n",
              "  <thead>\n",
              "    <tr style=\"text-align: right;\">\n",
              "      <th></th>\n",
              "      <th>loss</th>\n",
              "      <th>accuracy</th>\n",
              "      <th>val_loss</th>\n",
              "      <th>val_accuracy</th>\n",
              "    </tr>\n",
              "  </thead>\n",
              "  <tbody>\n",
              "    <tr>\n",
              "      <th>0</th>\n",
              "      <td>0.236577</td>\n",
              "      <td>0.932433</td>\n",
              "      <td>0.091964</td>\n",
              "      <td>0.9735</td>\n",
              "    </tr>\n",
              "    <tr>\n",
              "      <th>1</th>\n",
              "      <td>0.078831</td>\n",
              "      <td>0.976650</td>\n",
              "      <td>0.062455</td>\n",
              "      <td>0.9804</td>\n",
              "    </tr>\n",
              "    <tr>\n",
              "      <th>2</th>\n",
              "      <td>0.057281</td>\n",
              "      <td>0.982917</td>\n",
              "      <td>0.051416</td>\n",
              "      <td>0.9829</td>\n",
              "    </tr>\n",
              "    <tr>\n",
              "      <th>3</th>\n",
              "      <td>0.046285</td>\n",
              "      <td>0.985933</td>\n",
              "      <td>0.054096</td>\n",
              "      <td>0.9817</td>\n",
              "    </tr>\n",
              "    <tr>\n",
              "      <th>4</th>\n",
              "      <td>0.036890</td>\n",
              "      <td>0.988433</td>\n",
              "      <td>0.047874</td>\n",
              "      <td>0.9848</td>\n",
              "    </tr>\n",
              "  </tbody>\n",
              "</table>\n",
              "</div>\n",
              "      <button class=\"colab-df-convert\" onclick=\"convertToInteractive('df-8e7dbfa2-762f-4c2f-8521-5dfd76f998b1')\"\n",
              "              title=\"Convert this dataframe to an interactive table.\"\n",
              "              style=\"display:none;\">\n",
              "        \n",
              "  <svg xmlns=\"http://www.w3.org/2000/svg\" height=\"24px\"viewBox=\"0 0 24 24\"\n",
              "       width=\"24px\">\n",
              "    <path d=\"M0 0h24v24H0V0z\" fill=\"none\"/>\n",
              "    <path d=\"M18.56 5.44l.94 2.06.94-2.06 2.06-.94-2.06-.94-.94-2.06-.94 2.06-2.06.94zm-11 1L8.5 8.5l.94-2.06 2.06-.94-2.06-.94L8.5 2.5l-.94 2.06-2.06.94zm10 10l.94 2.06.94-2.06 2.06-.94-2.06-.94-.94-2.06-.94 2.06-2.06.94z\"/><path d=\"M17.41 7.96l-1.37-1.37c-.4-.4-.92-.59-1.43-.59-.52 0-1.04.2-1.43.59L10.3 9.45l-7.72 7.72c-.78.78-.78 2.05 0 2.83L4 21.41c.39.39.9.59 1.41.59.51 0 1.02-.2 1.41-.59l7.78-7.78 2.81-2.81c.8-.78.8-2.07 0-2.86zM5.41 20L4 18.59l7.72-7.72 1.47 1.35L5.41 20z\"/>\n",
              "  </svg>\n",
              "      </button>\n",
              "      \n",
              "  <style>\n",
              "    .colab-df-container {\n",
              "      display:flex;\n",
              "      flex-wrap:wrap;\n",
              "      gap: 12px;\n",
              "    }\n",
              "\n",
              "    .colab-df-convert {\n",
              "      background-color: #E8F0FE;\n",
              "      border: none;\n",
              "      border-radius: 50%;\n",
              "      cursor: pointer;\n",
              "      display: none;\n",
              "      fill: #1967D2;\n",
              "      height: 32px;\n",
              "      padding: 0 0 0 0;\n",
              "      width: 32px;\n",
              "    }\n",
              "\n",
              "    .colab-df-convert:hover {\n",
              "      background-color: #E2EBFA;\n",
              "      box-shadow: 0px 1px 2px rgba(60, 64, 67, 0.3), 0px 1px 3px 1px rgba(60, 64, 67, 0.15);\n",
              "      fill: #174EA6;\n",
              "    }\n",
              "\n",
              "    [theme=dark] .colab-df-convert {\n",
              "      background-color: #3B4455;\n",
              "      fill: #D2E3FC;\n",
              "    }\n",
              "\n",
              "    [theme=dark] .colab-df-convert:hover {\n",
              "      background-color: #434B5C;\n",
              "      box-shadow: 0px 1px 3px 1px rgba(0, 0, 0, 0.15);\n",
              "      filter: drop-shadow(0px 1px 2px rgba(0, 0, 0, 0.3));\n",
              "      fill: #FFFFFF;\n",
              "    }\n",
              "  </style>\n",
              "\n",
              "      <script>\n",
              "        const buttonEl =\n",
              "          document.querySelector('#df-8e7dbfa2-762f-4c2f-8521-5dfd76f998b1 button.colab-df-convert');\n",
              "        buttonEl.style.display =\n",
              "          google.colab.kernel.accessAllowed ? 'block' : 'none';\n",
              "\n",
              "        async function convertToInteractive(key) {\n",
              "          const element = document.querySelector('#df-8e7dbfa2-762f-4c2f-8521-5dfd76f998b1');\n",
              "          const dataTable =\n",
              "            await google.colab.kernel.invokeFunction('convertToInteractive',\n",
              "                                                     [key], {});\n",
              "          if (!dataTable) return;\n",
              "\n",
              "          const docLinkHtml = 'Like what you see? Visit the ' +\n",
              "            '<a target=\"_blank\" href=https://colab.research.google.com/notebooks/data_table.ipynb>data table notebook</a>'\n",
              "            + ' to learn more about interactive tables.';\n",
              "          element.innerHTML = '';\n",
              "          dataTable['output_type'] = 'display_data';\n",
              "          await google.colab.output.renderOutput(dataTable, element);\n",
              "          const docLink = document.createElement('div');\n",
              "          docLink.innerHTML = docLinkHtml;\n",
              "          element.appendChild(docLink);\n",
              "        }\n",
              "      </script>\n",
              "    </div>\n",
              "  </div>\n",
              "  "
            ]
          },
          "metadata": {},
          "execution_count": 117
        }
      ],
      "source": [
        "metrics.head()"
      ]
    },
    {
      "cell_type": "code",
      "execution_count": 118,
      "metadata": {
        "id": "4Sg3ECV6LMf5",
        "colab": {
          "base_uri": "https://localhost:8080/",
          "height": 283
        },
        "outputId": "3bd0d190-1fb6-493d-9b3a-50fa963ecefa"
      },
      "outputs": [
        {
          "output_type": "execute_result",
          "data": {
            "text/plain": [
              "<matplotlib.axes._subplots.AxesSubplot at 0x7fbf265b7690>"
            ]
          },
          "metadata": {},
          "execution_count": 118
        },
        {
          "output_type": "display_data",
          "data": {
            "text/plain": [
              "<Figure size 432x288 with 1 Axes>"
            ],
            "image/png": "[encoded data removed]"
          },
          "metadata": {
            "needs_background": "light"
          }
        }
      ],
      "source": [
        "metrics[['accuracy','val_accuracy']].plot()"
      ]
    },
    {
      "cell_type": "code",
      "execution_count": 119,
      "metadata": {
        "id": "A906k0lmLOgg",
        "colab": {
          "base_uri": "https://localhost:8080/",
          "height": 283
        },
        "outputId": "a8194923-6969-4a17-cce7-9a8e304ecded"
      },
      "outputs": [
        {
          "output_type": "execute_result",
          "data": {
            "text/plain": [
              "<matplotlib.axes._subplots.AxesSubplot at 0x7fbf26643810>"
            ]
          },
          "metadata": {},
          "execution_count": 119
        },
        {
          "output_type": "display_data",
          "data": {
            "text/plain": [
              "<Figure size 432x288 with 1 Axes>"
            ],
            "image/png": "[encoded data removed]"
          },
          "metadata": {
            "needs_background": "light"
          }
        }
      ],
      "source": [
        "metrics[['loss','val_loss']].plot()"
      ]
    },
    {
      "cell_type": "code",
      "execution_count": 120,
      "metadata": {
        "id": "PDnRigNeLk7B"
      },
      "outputs": [],
      "source": [
        "x_test_predictions = np.argmax(model.predict(X_test_scaled), axis=1)"
      ]
    },
    {
      "cell_type": "code",
      "execution_count": 121,
      "metadata": {
        "id": "gP5Ud8DbLpvI",
        "colab": {
          "base_uri": "https://localhost:8080/"
        },
        "outputId": "bf5bb6dc-18b1-44e1-9578-bbdc9b176464"
      },
      "outputs": [
        {
          "output_type": "stream",
          "name": "stdout",
          "text": [
            "[[ 975    0    1    1    0    0    1    0    2    0]\n",
            " [   0 1129    3    0    0    0    2    0    1    0]\n",
            " [   2    2 1018    2    1    0    1    3    3    0]\n",
            " [   0    0    3  999    0    5    0    0    2    1]\n",
            " [   0    0    2    0  971    0    2    1    0    6]\n",
            " [   2    0    1    5    0  881    3    0    0    0]\n",
            " [   6    1    1    0    1    1  947    0    1    0]\n",
            " [   0    2   12    3    1    0    0  992    2   16]\n",
            " [   3    0    1    2    2    3    3    1  954    5]\n",
            " [   1    0    0    1    5    1    0    2    1  998]]\n"
          ]
        }
      ],
      "source": [
        "print(confusion_matrix(y_test,x_test_predictions))"
      ]
    },
    {
      "cell_type": "code",
      "execution_count": 122,
      "metadata": {
        "id": "9gJ7WV95L7my",
        "colab": {
          "base_uri": "https://localhost:8080/"
        },
        "outputId": "a99b6b9b-42f0-498f-a127-0035de51da00"
      },
      "outputs": [
        {
          "output_type": "stream",
          "name": "stdout",
          "text": [
            "              precision    recall  f1-score   support\n",
            "\n",
            "           0       0.99      0.99      0.99       980\n",
            "           1       1.00      0.99      1.00      1135\n",
            "           2       0.98      0.99      0.98      1032\n",
            "           3       0.99      0.99      0.99      1010\n",
            "           4       0.99      0.99      0.99       982\n",
            "           5       0.99      0.99      0.99       892\n",
            "           6       0.99      0.99      0.99       958\n",
            "           7       0.99      0.96      0.98      1028\n",
            "           8       0.99      0.98      0.98       974\n",
            "           9       0.97      0.99      0.98      1009\n",
            "\n",
            "    accuracy                           0.99     10000\n",
            "   macro avg       0.99      0.99      0.99     10000\n",
            "weighted avg       0.99      0.99      0.99     10000\n",
            "\n"
          ]
        }
      ],
      "source": [
        "print(classification_report(y_test,x_test_predictions))"
      ]
    },
    {
      "cell_type": "markdown",
      "metadata": {
        "id": "KlBK9Iw_MHc0"
      },
      "source": [
        "**Prediction for a single input**\n",
        "\n"
      ]
    },
    {
      "cell_type": "code",
      "source": [
        "from tensorflow.keras.preprocessing import image\n",
        "img=image.load_img('5numb.png')\n",
        "img_tensor=tf.convert_to_tensor(np.asarray(img))\n",
        "img_28=tf.image.resize(img_tensor,(28,28))\n",
        "img_28_gray=tf.image.rgb_to_grayscale(img_28)\n",
        "img_28_gray_scaled=img_28_gray.numpy()/255.0"
      ],
      "metadata": {
        "id": "d3-FfAsxMDFv"
      },
      "execution_count": 133,
      "outputs": []
    },
    {
      "cell_type": "code",
      "execution_count": 134,
      "metadata": {
        "id": "yrw9d6T8OXLh"
      },
      "outputs": [],
      "source": [
        "x_single_prediction = np.argmax(\n",
        "    model.predict(img_28_gray_scaled.reshape(1,28,28,1)),\n",
        "     axis=1)"
      ]
    },
    {
      "cell_type": "code",
      "execution_count": 135,
      "metadata": {
        "id": "J5YWILZSPgnJ",
        "colab": {
          "base_uri": "https://localhost:8080/"
        },
        "outputId": "f7456e0e-8d5e-4d59-db8d-fcfc7d108b5d"
      },
      "outputs": [
        {
          "output_type": "stream",
          "name": "stdout",
          "text": [
            "[3]\n"
          ]
        }
      ],
      "source": [
        "print(x_single_prediction)"
      ]
    },
    {
      "cell_type": "code",
      "execution_count": 136,
      "metadata": {
        "id": "P0De-3CVPpXZ",
        "colab": {
          "base_uri": "https://localhost:8080/",
          "height": 283
        },
        "outputId": "8440d1a5-2bcc-46d6-be2e-6920934fa70e"
      },
      "outputs": [
        {
          "output_type": "execute_result",
          "data": {
            "text/plain": [
              "<matplotlib.image.AxesImage at 0x7fbf264a6a90>"
            ]
          },
          "metadata": {},
          "execution_count": 136
        },
        {
          "output_type": "display_data",
          "data": {
            "text/plain": [
              "<Figure size 432x288 with 1 Axes>"
            ],
            "image/png": "[encoded data removed]"
          },
          "metadata": {
            "needs_background": "light"
          }
        }
      ],
      "source": [
        "plt.imshow(img_28_gray_scaled.reshape(28,28),cmap='gray')"
      ]
    },
    {
      "cell_type": "code",
      "execution_count": 137,
      "metadata": {
        "id": "qqh74INOfnjX"
      },
      "outputs": [],
      "source": [
        "img_28_gray_inverted = 255.0-img_28_gray\n",
        "img_28_gray_inverted_scaled = img_28_gray_inverted.numpy()/255.0\n"
      ]
    },
    {
      "cell_type": "code",
      "source": [
        "plt.imshow(img_28_gray_inverted_scaled.reshape(28,28),cmap='gray')"
      ],
      "metadata": {
        "colab": {
          "base_uri": "https://localhost:8080/",
          "height": 283
        },
        "id": "umiz7x1MLqZI",
        "outputId": "96ee85f6-57d1-44fd-89cf-f1e30008cdf9"
      },
      "execution_count": 138,
      "outputs": [
        {
          "output_type": "execute_result",
          "data": {
            "text/plain": [
              "<matplotlib.image.AxesImage at 0x7fbf26927610>"
            ]
          },
          "metadata": {},
          "execution_count": 138
        },
        {
          "output_type": "display_data",
          "data": {
            "text/plain": [
              "<Figure size 432x288 with 1 Axes>"
            ],
            "image/png": "[encoded data removed]"
          },
          "metadata": {
            "needs_background": "light"
          }
        }
      ]
    },
    {
      "cell_type": "code",
      "execution_count": 139,
      "metadata": {
        "id": "08peSjZ2f6xG"
      },
      "outputs": [],
      "source": [
        "x_single_prediction = np.argmax(\n",
        "    model.predict(img_28_gray_inverted_scaled.reshape(1,28,28,1)),\n",
        "     axis=1)"
      ]
    },
    {
      "cell_type": "code",
      "execution_count": 140,
      "metadata": {
        "id": "jqoeXU7kf9Km",
        "colab": {
          "base_uri": "https://localhost:8080/"
        },
        "outputId": "374dddf1-5625-48eb-aa3b-6e8fd9129f31"
      },
      "outputs": [
        {
          "output_type": "stream",
          "name": "stdout",
          "text": [
            "[5]\n"
          ]
        }
      ],
      "source": [
        "print(x_single_prediction)"
      ]
    }
  ],
  "metadata": {
    "colab": {
      "collapsed_sections": [],
      "provenance": [],
      "include_colab_link": true
    },
    "kernelspec": {
      "display_name": "Python 3",
      "name": "python3"
    },
    "language_info": {
      "name": "python"
    }
  },
  "nbformat": 4,
  "nbformat_minor": 0
}